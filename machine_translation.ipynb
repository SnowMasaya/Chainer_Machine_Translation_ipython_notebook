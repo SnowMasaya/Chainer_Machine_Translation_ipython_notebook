{
 "cells": [
  {
   "cell_type": "markdown",
   "metadata": {},
   "source": [
    "# Introduction\n",
    "[Chainer](http://chainer.org/) とはニューラルネットの実装を簡単にしたフレームワークです。\n",
    "\n",
    "* 今回は機械翻訳にニューラルネットを適用してみました。\n",
    "\n",
    "![](./pictures/Chainer.jpg)\n",
    "\n",
    "* 今回は機械翻訳を行っていただきます。\n",
    "\n",
    "ハンズオンについての説明\n",
    "http://qiita.com/GushiSnow/private/b0abf7d3dccafe14fa07\n",
    "\n",
    "機械翻訳は機械が言語を別の言語に翻訳するものです。\n",
    "\n",
    "機械翻訳にはいくつか種類があるのでここでも紹介しておきます。\n",
    "\n",
    "* PBMT(Phrase Base Machine Translation)モデル\n",
    " * [moses](http://www.statmt.org/moses/)というオープンソースで使用できるメジャーな機械翻訳のモデルですが、難しすぎて理解できない人を続出させる機械翻訳の鬼門です\n",
    "* ニューラル機械翻訳\n",
    " * 翻訳元単語の辞書ベクトルを潜在空間ベクトルに落とし込み、ニューラルネットで翻訳先言語を学習させる手法\n",
    "\n",
    "以下では、このChainerを利用しデータを準備するところから実際にNN翻訳モデルを構築し学習・評価を行うまでの手順を解説します。\n",
    "\n",
    "1. [各種ライブラリ導入](#各種ライブラリ導入) \n",
    "2. [機械翻訳のクラス](#機械翻訳のクラス)\n",
    "3. [翻訳処理を行うforward処理部分](#翻訳処理を行うforward処理部分)\n",
    "4. [各値を設定](#各値を設定)\n",
    "5. [実行](#実行)\n",
    "\n"
   ]
  },
  {
   "cell_type": "markdown",
   "metadata": {},
   "source": [
    "## 1.各種ライブラリ導入"
   ]
  },
  {
   "cell_type": "markdown",
   "metadata": {},
   "source": [
    "Chainerの言語処理では多数のライブラリを導入します。\n",
    "\n"
   ]
  },
  {
   "cell_type": "code",
   "execution_count": 1,
   "metadata": {},
   "outputs": [],
   "source": [
    "from util.functions import trace\n",
    "import numpy as np\n",
    "\n",
    "from chainer import functions, optimizers\n",
    "\n",
    "from util.chainer_cpu_wrapper import wrapper\n",
    "\n",
    "from EncoderDecoderModel import EncoderDecoderModel\n",
    "import subprocess"
   ]
  },
  {
   "cell_type": "markdown",
   "metadata": {},
   "source": [
    "`導入するライブラリの代表例は下記です。\n",
    "\n",
    "* `numpy`: 行列計算などの複雑な計算を行なうライブラリ\n",
    "* `chainer`: Chainerの導入\n",
    "* `util`:今回の処理で必要なライブラリが入っています。\n"
   ]
  },
  {
   "cell_type": "markdown",
   "metadata": {},
   "source": [
    "## 2.機械翻訳のクラス"
   ]
  },
  {
   "cell_type": "markdown",
   "metadata": {},
   "source": [
    "下記を設定しています。\n",
    "* ニューラルネットを用いて機械翻訳用のモデルを構成しています。\n",
    "\n",
    "全体構成\n",
    "\n",
    "![](./pictures/NN_machine_translation.png)\n",
    "\n",
    "\n"
   ]
  },
  {
   "cell_type": "markdown",
   "metadata": {},
   "source": [
    "## 3.翻訳処理を行うforward処理部分"
   ]
  },
  {
   "cell_type": "markdown",
   "metadata": {},
   "source": [
    "下記の論文を参考にしてforward処理を記述しています。\n",
    "\n",
    "http://papers.nips.cc/paper/5346-sequence-to-sequence-learning-with-neural-networks.pdf\n",
    "\n",
    "* Encoder部分\n",
    "もっとも特徴的な部分は翻訳元言語を逆順にしていることです。そうすることで精度が向上していると述べており、今回の翻訳のNNモデルもそれを再現しています。\n",
    "\n",
    "この論文でははっきりした要因はわかっていないが、おそらく翻訳先の言語と翻訳元言語の距離が逆順にすることで最初の単語の距離が近くなり、翻訳のタイムラグが少なくなったことが起因していると考えられています。\n",
    "\n",
    "![](./pictures/encoder.png)\n",
    "\n",
    "* Decoder部分\n",
    "\n",
    "学習部分と予測部分を実装しています。学習部分ではターゲット先の単語の取得と損失の計算をしています。\n",
    "またlstmで次回の学習に使用する部分では学習では正解の翻訳、予測では予測した翻訳を使用しています。\n",
    "\n",
    "![](./pictures/decorder.png)"
   ]
  },
  {
   "cell_type": "code",
   "execution_count": 2,
   "metadata": {},
   "outputs": [],
   "source": [
    "class EncoderDecoderModelForward(EncoderDecoderModel):\n",
    "    \n",
    "    def forward(self, is_training, src_batch, trg_batch = None, generation_limit = None):\n",
    "        m = self.model\n",
    "        tanh = functions.tanh\n",
    "        lstm = functions.lstm\n",
    "        batch_size = len(src_batch)\n",
    "        src_len = len(src_batch[0])\n",
    "        src_stoi = self.src_vocab.stoi\n",
    "        trg_stoi = self.trg_vocab.stoi\n",
    "        trg_itos = self.trg_vocab.itos\n",
    "        s_c = wrapper.zeros((batch_size, self.n_hidden))\n",
    "\n",
    "#--------Hands on------------------------------------------------------------------#\n",
    "    # encoding\n",
    "        \"\"\"\n",
    "　　     逆順にEncodingしていくため下記の手順になる。 \n",
    "　　     １：翻訳元言語の末尾</s>を潜在空間に写像し、隠れ層に入力、lstmで出力までをバッチサイズ分行う。\n",
    "　　     ２：翻訳元言語を逆順に１と同様の処理を行う。\n",
    "　　     ３：次のミニバッチ処理のために最終結果をlstmで出力。翻訳の仮説用のリストを保持\n",
    "        \"\"\"\n",
    "        s_x = wrapper.make_var([src_stoi('</s>') for _ in range(batch_size)], dtype=np.int32)\n",
    "        s_i = tanh(m.w_xi(s_x))\n",
    "        s_c, s_p = lstm(s_c, m.w_ip(s_i))\n",
    "\n",
    "        for l in reversed(range(src_len)):\n",
    "            s_x = wrapper.make_var([src_stoi(src_batch[k][l]) for k in range(batch_size)], dtype=np.int32)\n",
    "            s_i = tanh(m.w_xi(s_x))\n",
    "            s_c, s_p = lstm(s_c, m.w_ip(s_i) + m.w_pp(s_p))\n",
    "\n",
    "        s_c, s_q = lstm(s_c, m.w_pq(s_p))\n",
    "        hyp_batch = [[] for _ in range(batch_size)]\n",
    "\n",
    "    # decoding\n",
    "        \"\"\"\n",
    "　　     学習と予測をコードしている。\n",
    "　　     学習部分 \n",
    "　　     １：学習では損失の計算及び答えとなる翻訳先言語の長さを考慮する必要がある。（翻訳元言語と翻訳先言語で長さが異なるため）\n",
    "　　     ２：ニューラルネットの処理は基本的にEncodingと同一であるが、損失計算と翻訳仮説候補の確保の処理が加わっている。\n",
    "        \"\"\"\n",
    "        \"\"\"\n",
    "        予測部分\n",
    "        １：予測では予測する翻訳言語の長さに制約をしないとニューラル翻訳モデルの性質上、無限に翻訳してしまう可能性があるので、長さに制約を設けている。\n",
    "        ２：翻訳元言語を逆順に１と同様の処理を行う。\n",
    "        ３：基本的に学習部分と同一であるが、ミニバッチサイズ分の翻訳仮説の末尾が</s>になったときにDecoding処理が終わるようになっている。\n",
    "        \"\"\"\n",
    "        if is_training:\n",
    "            accum_loss = wrapper.zeros(())\n",
    "            trg_len = len(trg_batch[0])\n",
    "\n",
    "            for l in range(trg_len):\n",
    "                s_j = tanh(m.w_qj(s_q))\n",
    "                r_y = m.w_jy(s_j)\n",
    "                s_t = wrapper.make_var([trg_stoi(trg_batch[k][l]) for k in range(batch_size)], dtype=np.int32)\n",
    "                accum_loss += functions.softmax_cross_entropy(r_y, s_t)\n",
    "                output = wrapper.get_data(r_y).argmax(1)\n",
    "\n",
    "                for k in range(batch_size):\n",
    "                    hyp_batch[k].append(trg_itos(output[k]))\n",
    "\n",
    "                s_c, s_q = lstm(s_c, m.w_yq(s_t) + m.w_qq(s_q))\n",
    "\n",
    "            return hyp_batch, accum_loss\n",
    "        else:\n",
    "            while len(hyp_batch[0]) < generation_limit:\n",
    "                s_j = tanh(m.w_qj(s_q))\n",
    "                r_y = m.w_jy(s_j)\n",
    "                output = wrapper.get_data(r_y).argmax(1)\n",
    "\n",
    "                for k in range(batch_size):\n",
    "                    hyp_batch[k].append(trg_itos(output[k]))\n",
    "\n",
    "                if all(hyp_batch[k][-1] == '</s>' for k in range(batch_size)): break\n",
    "\n",
    "                s_y = wrapper.make_var(output, dtype=np.int32)\n",
    "                s_c, s_q = lstm(s_c, m.w_yq(s_y) + m.w_qq(s_q))\n",
    "\n",
    "            return hyp_batch\n",
    "\n",
    "#--------Hands on------------------------------------------------------------------#"
   ]
  },
  {
   "cell_type": "markdown",
   "metadata": {},
   "source": [
    "## 4.各値を設定"
   ]
  },
  {
   "cell_type": "markdown",
   "metadata": {},
   "source": [
    "各値を設定\n",
    "\n",
    "* モードを学習かテストか設定\n",
    "* 翻訳元言語の設定\n",
    "* 翻訳先言語の設定\n",
    "* 語彙の設定\n",
    "* 潜在空間の設定\n",
    "* 隠れ層の設定\n",
    "* 学習回数の設定\n",
    "* ミニバッチサイズの設定\n",
    "* 最大予測言語数の設定\n"
   ]
  },
  {
   "cell_type": "code",
   "execution_count": 3,
   "metadata": {},
   "outputs": [],
   "source": [
    "parameter_dict = {}\n",
    "train_path = \"oda201512handson/train/\"\n",
    "test_path = \"oda201512handson/test/\"\n",
    "#--------Hands on  2----------------------------------------------------------------\n",
    "# #\n",
    "\n",
    "mode = \"train\"\n",
    "parameter_dict[\"source\"] = train_path + \"train1000.ja\"\n",
    "parameter_dict[\"target\"] = train_path + \"train1000.en\"\n",
    "parameter_dict[\"test_source\"] = test_path + \"test1000.ja\"\n",
    "parameter_dict[\"test_target\"] = test_path + \"test1000_hyp.en\"\n",
    "parameter_dict[\"reference_target\"] = test_path + \"test1000.en\"\n",
    "parameter_dict[\"vocab\"] = 500\n",
    "parameter_dict[\"embed\"] = 20\n",
    "parameter_dict[\"hidden\"] = 20\n",
    "parameter_dict[\"epoch\"] = 20\n",
    "parameter_dict[\"minibatch\"] = 64\n",
    "parameter_dict[\"generation_limit\"] = 256\n",
    "parameter_dict[\"show_hands_on_number\"] = 10\n",
    "parameter_dict[\"show_i_epoch\"] = 0\n",
    "#--------Hands on  2----------------------------------------------------------------#"
   ]
  },
  {
   "cell_type": "markdown",
   "metadata": {},
   "source": [
    "## 5.実行"
   ]
  },
  {
   "cell_type": "code",
   "execution_count": 4,
   "metadata": {},
   "outputs": [
    {
     "name": "stderr",
     "output_type": "stream",
     "text": [
      "2015-12-07 11:13:54.698036 ... initializing ...\n"
     ]
    },
    {
     "name": "stderr",
     "output_type": "stream",
     "text": [
      "2015-12-07 11:13:54.698504 ... making vocaburaries ...\n"
     ]
    },
    {
     "name": "stderr",
     "output_type": "stream",
     "text": [
      "2015-12-07 11:13:54.714693 ... making model ...\n"
     ]
    },
    {
     "name": "stderr",
     "output_type": "stream",
     "text": [
      "2015-12-07 11:13:54.718019 ... epoch 1/20: \n"
     ]
    },
    {
     "name": "stderr",
     "output_type": "stream",
     "text": [
      "2015-12-07 11:13:54.773142 ... epoch   1/ 20, sample        1\n"
     ]
    },
    {
     "name": "stderr",
     "output_type": "stream",
     "text": [
      "2015-12-07 11:13:54.773551 ...   src = エミ は 幸せ そう に 見え ま す 。 * * * * *\n"
     ]
    },
    {
     "name": "stderr",
     "output_type": "stream",
     "text": [
      "2015-12-07 11:13:54.773803 ...   trg = emi looks happy . * *\n"
     ]
    },
    {
     "name": "stderr",
     "output_type": "stream",
     "text": [
      "2015-12-07 11:13:54.774101 ...   hyp = difficult late late late 's late\n"
     ]
    },
    {
     "name": "stderr",
     "output_type": "stream",
     "text": [
      "2015-12-07 11:13:55.585860 ... saving model ...\n"
     ]
    },
    {
     "name": "stderr",
     "output_type": "stream",
     "text": [
      "2015-12-07 11:13:55.665989 ... epoch 2/20: \n"
     ]
    },
    {
     "name": "stderr",
     "output_type": "stream",
     "text": [
      "2015-12-07 11:13:55.707739 ... epoch   2/ 20, sample        1\n"
     ]
    },
    {
     "name": "stderr",
     "output_type": "stream",
     "text": [
      "2015-12-07 11:13:55.708082 ...   src = エミ は 幸せ そう に 見え ま す 。 * * * * *\n"
     ]
    },
    {
     "name": "stderr",
     "output_type": "stream",
     "text": [
      "2015-12-07 11:13:55.708419 ...   trg = emi looks happy . * *\n"
     ]
    },
    {
     "name": "stderr",
     "output_type": "stream",
     "text": [
      "2015-12-07 11:13:55.708696 ...   hyp = me * me me * *\n"
     ]
    },
    {
     "name": "stderr",
     "output_type": "stream",
     "text": [
      "2015-12-07 11:13:56.478107 ... saving model ...\n"
     ]
    },
    {
     "name": "stderr",
     "output_type": "stream",
     "text": [
      "2015-12-07 11:13:56.547801 ... epoch 3/20: \n"
     ]
    },
    {
     "name": "stderr",
     "output_type": "stream",
     "text": [
      "2015-12-07 11:13:56.588116 ... epoch   3/ 20, sample        1\n"
     ]
    },
    {
     "name": "stderr",
     "output_type": "stream",
     "text": [
      "2015-12-07 11:13:56.588477 ...   src = エミ は 幸せ そう に 見え ま す 。 * * * * *\n"
     ]
    },
    {
     "name": "stderr",
     "output_type": "stream",
     "text": [
      "2015-12-07 11:13:56.588796 ...   trg = emi looks happy . * *\n"
     ]
    },
    {
     "name": "stderr",
     "output_type": "stream",
     "text": [
      "2015-12-07 11:13:56.589065 ...   hyp = * * * * * *\n"
     ]
    },
    {
     "name": "stderr",
     "output_type": "stream",
     "text": [
      "2015-12-07 11:13:57.347442 ... saving model ...\n"
     ]
    },
    {
     "name": "stderr",
     "output_type": "stream",
     "text": [
      "2015-12-07 11:13:57.414536 ... epoch 4/20: \n"
     ]
    },
    {
     "name": "stderr",
     "output_type": "stream",
     "text": [
      "2015-12-07 11:13:57.462310 ... epoch   4/ 20, sample        1\n"
     ]
    },
    {
     "name": "stderr",
     "output_type": "stream",
     "text": [
      "2015-12-07 11:13:57.462699 ...   src = エミ は 幸せ そう に 見え ま す 。 * * * * *\n"
     ]
    },
    {
     "name": "stderr",
     "output_type": "stream",
     "text": [
      "2015-12-07 11:13:57.462920 ...   trg = emi looks happy . * *\n"
     ]
    },
    {
     "name": "stderr",
     "output_type": "stream",
     "text": [
      "2015-12-07 11:13:57.463171 ...   hyp = * <unk> <unk> * * *\n"
     ]
    },
    {
     "name": "stderr",
     "output_type": "stream",
     "text": [
      "2015-12-07 11:13:58.344117 ... saving model ...\n"
     ]
    },
    {
     "name": "stderr",
     "output_type": "stream",
     "text": [
      "2015-12-07 11:13:58.409586 ... epoch 5/20: \n"
     ]
    },
    {
     "name": "stderr",
     "output_type": "stream",
     "text": [
      "2015-12-07 11:13:58.449267 ... epoch   5/ 20, sample        1\n"
     ]
    },
    {
     "name": "stderr",
     "output_type": "stream",
     "text": [
      "2015-12-07 11:13:58.449614 ...   src = エミ は 幸せ そう に 見え ま す 。 * * * * *\n"
     ]
    },
    {
     "name": "stderr",
     "output_type": "stream",
     "text": [
      "2015-12-07 11:13:58.449956 ...   trg = emi looks happy . * *\n"
     ]
    },
    {
     "name": "stderr",
     "output_type": "stream",
     "text": [
      "2015-12-07 11:13:58.450225 ...   hyp = i <unk> <unk> <unk> * *\n"
     ]
    },
    {
     "name": "stderr",
     "output_type": "stream",
     "text": [
      "2015-12-07 11:13:59.207047 ... saving model ...\n"
     ]
    },
    {
     "name": "stderr",
     "output_type": "stream",
     "text": [
      "2015-12-07 11:13:59.301795 ... epoch 6/20: \n"
     ]
    },
    {
     "name": "stderr",
     "output_type": "stream",
     "text": [
      "2015-12-07 11:13:59.344446 ... epoch   6/ 20, sample        1\n"
     ]
    },
    {
     "name": "stderr",
     "output_type": "stream",
     "text": [
      "2015-12-07 11:13:59.344885 ...   src = エミ は 幸せ そう に 見え ま す 。 * * * * *\n"
     ]
    },
    {
     "name": "stderr",
     "output_type": "stream",
     "text": [
      "2015-12-07 11:13:59.345302 ...   trg = emi looks happy . * *\n"
     ]
    },
    {
     "name": "stderr",
     "output_type": "stream",
     "text": [
      "2015-12-07 11:13:59.345707 ...   hyp = i <unk> <unk> <unk> * *\n"
     ]
    },
    {
     "name": "stderr",
     "output_type": "stream",
     "text": [
      "2015-12-07 11:14:00.259920 ... saving model ...\n"
     ]
    },
    {
     "name": "stderr",
     "output_type": "stream",
     "text": [
      "2015-12-07 11:14:00.334593 ... epoch 7/20: \n"
     ]
    },
    {
     "name": "stderr",
     "output_type": "stream",
     "text": [
      "2015-12-07 11:14:00.415572 ... epoch   7/ 20, sample        1\n"
     ]
    },
    {
     "name": "stderr",
     "output_type": "stream",
     "text": [
      "2015-12-07 11:14:00.416336 ...   src = エミ は 幸せ そう に 見え ま す 。 * * * * *\n"
     ]
    },
    {
     "name": "stderr",
     "output_type": "stream",
     "text": [
      "2015-12-07 11:14:00.416723 ...   trg = emi looks happy . * *\n"
     ]
    },
    {
     "name": "stderr",
     "output_type": "stream",
     "text": [
      "2015-12-07 11:14:00.417136 ...   hyp = i <unk> <unk> <unk> * *\n"
     ]
    },
    {
     "name": "stderr",
     "output_type": "stream",
     "text": [
      "2015-12-07 11:14:01.210819 ... saving model ...\n"
     ]
    },
    {
     "name": "stderr",
     "output_type": "stream",
     "text": [
      "2015-12-07 11:14:01.287237 ... epoch 8/20: \n"
     ]
    },
    {
     "name": "stderr",
     "output_type": "stream",
     "text": [
      "2015-12-07 11:14:01.356131 ... epoch   8/ 20, sample        1\n"
     ]
    },
    {
     "name": "stderr",
     "output_type": "stream",
     "text": [
      "2015-12-07 11:14:01.357351 ...   src = エミ は 幸せ そう に 見え ま す 。 * * * * *\n"
     ]
    },
    {
     "name": "stderr",
     "output_type": "stream",
     "text": [
      "2015-12-07 11:14:01.358321 ...   trg = emi looks happy . * *\n"
     ]
    },
    {
     "name": "stderr",
     "output_type": "stream",
     "text": [
      "2015-12-07 11:14:01.359093 ...   hyp = i <unk> <unk> <unk> * *\n"
     ]
    },
    {
     "name": "stderr",
     "output_type": "stream",
     "text": [
      "2015-12-07 11:14:02.412102 ... saving model ...\n"
     ]
    },
    {
     "name": "stderr",
     "output_type": "stream",
     "text": [
      "2015-12-07 11:14:02.494186 ... epoch 9/20: \n"
     ]
    },
    {
     "name": "stderr",
     "output_type": "stream",
     "text": [
      "2015-12-07 11:14:02.561262 ... epoch   9/ 20, sample        1\n"
     ]
    },
    {
     "name": "stderr",
     "output_type": "stream",
     "text": [
      "2015-12-07 11:14:02.561874 ...   src = エミ は 幸せ そう に 見え ま す 。 * * * * *\n"
     ]
    },
    {
     "name": "stderr",
     "output_type": "stream",
     "text": [
      "2015-12-07 11:14:02.562307 ...   trg = emi looks happy . * *\n"
     ]
    },
    {
     "name": "stderr",
     "output_type": "stream",
     "text": [
      "2015-12-07 11:14:02.562770 ...   hyp = i <unk> <unk> <unk> * *\n"
     ]
    },
    {
     "name": "stderr",
     "output_type": "stream",
     "text": [
      "2015-12-07 11:14:03.524341 ... saving model ...\n"
     ]
    },
    {
     "name": "stderr",
     "output_type": "stream",
     "text": [
      "2015-12-07 11:14:03.604043 ... epoch 10/20: \n"
     ]
    },
    {
     "name": "stderr",
     "output_type": "stream",
     "text": [
      "2015-12-07 11:14:03.678955 ... epoch  10/ 20, sample        1\n"
     ]
    },
    {
     "name": "stderr",
     "output_type": "stream",
     "text": [
      "2015-12-07 11:14:03.679321 ...   src = エミ は 幸せ そう に 見え ま す 。 * * * * *\n"
     ]
    },
    {
     "name": "stderr",
     "output_type": "stream",
     "text": [
      "2015-12-07 11:14:03.679641 ...   trg = emi looks happy . * *\n"
     ]
    },
    {
     "name": "stderr",
     "output_type": "stream",
     "text": [
      "2015-12-07 11:14:03.679924 ...   hyp = i <unk> <unk> <unk> * *\n"
     ]
    },
    {
     "name": "stderr",
     "output_type": "stream",
     "text": [
      "2015-12-07 11:14:04.472513 ... saving model ...\n"
     ]
    },
    {
     "name": "stderr",
     "output_type": "stream",
     "text": [
      "2015-12-07 11:14:04.559242 ... epoch 11/20: \n"
     ]
    },
    {
     "name": "stderr",
     "output_type": "stream",
     "text": [
      "2015-12-07 11:14:04.601947 ... epoch  11/ 20, sample        1\n"
     ]
    },
    {
     "name": "stderr",
     "output_type": "stream",
     "text": [
      "2015-12-07 11:14:04.602314 ...   src = エミ は 幸せ そう に 見え ま す 。 * * * * *\n"
     ]
    },
    {
     "name": "stderr",
     "output_type": "stream",
     "text": [
      "2015-12-07 11:14:04.602558 ...   trg = emi looks happy . * *\n"
     ]
    },
    {
     "name": "stderr",
     "output_type": "stream",
     "text": [
      "2015-12-07 11:14:04.602806 ...   hyp = i <unk> <unk> to * *\n"
     ]
    },
    {
     "name": "stderr",
     "output_type": "stream",
     "text": [
      "2015-12-07 11:14:05.525397 ... saving model ...\n"
     ]
    },
    {
     "name": "stderr",
     "output_type": "stream",
     "text": [
      "2015-12-07 11:14:05.597268 ... epoch 12/20: \n"
     ]
    },
    {
     "name": "stderr",
     "output_type": "stream",
     "text": [
      "2015-12-07 11:14:05.675836 ... epoch  12/ 20, sample        1\n"
     ]
    },
    {
     "name": "stderr",
     "output_type": "stream",
     "text": [
      "2015-12-07 11:14:05.676442 ...   src = エミ は 幸せ そう に 見え ま す 。 * * * * *\n"
     ]
    },
    {
     "name": "stderr",
     "output_type": "stream",
     "text": [
      "2015-12-07 11:14:05.677171 ...   trg = emi looks happy . * *\n"
     ]
    },
    {
     "name": "stderr",
     "output_type": "stream",
     "text": [
      "2015-12-07 11:14:05.677854 ...   hyp = i <unk> <unk> to * *\n"
     ]
    },
    {
     "name": "stderr",
     "output_type": "stream",
     "text": [
      "2015-12-07 11:14:06.544063 ... saving model ...\n"
     ]
    },
    {
     "name": "stderr",
     "output_type": "stream",
     "text": [
      "2015-12-07 11:14:06.611039 ... epoch 13/20: \n"
     ]
    },
    {
     "name": "stderr",
     "output_type": "stream",
     "text": [
      "2015-12-07 11:14:06.667577 ... epoch  13/ 20, sample        1\n"
     ]
    },
    {
     "name": "stderr",
     "output_type": "stream",
     "text": [
      "2015-12-07 11:14:06.667945 ...   src = エミ は 幸せ そう に 見え ま す 。 * * * * *\n"
     ]
    },
    {
     "name": "stderr",
     "output_type": "stream",
     "text": [
      "2015-12-07 11:14:06.668187 ...   trg = emi looks happy . * *\n"
     ]
    },
    {
     "name": "stderr",
     "output_type": "stream",
     "text": [
      "2015-12-07 11:14:06.668413 ...   hyp = i <unk> <unk> to * *\n"
     ]
    },
    {
     "name": "stderr",
     "output_type": "stream",
     "text": [
      "2015-12-07 11:14:07.564612 ... saving model ...\n"
     ]
    },
    {
     "name": "stderr",
     "output_type": "stream",
     "text": [
      "2015-12-07 11:14:07.646498 ... epoch 14/20: \n"
     ]
    },
    {
     "name": "stderr",
     "output_type": "stream",
     "text": [
      "2015-12-07 11:14:07.697381 ... epoch  14/ 20, sample        1\n"
     ]
    },
    {
     "name": "stderr",
     "output_type": "stream",
     "text": [
      "2015-12-07 11:14:07.697727 ...   src = エミ は 幸せ そう に 見え ま す 。 * * * * *\n"
     ]
    },
    {
     "name": "stderr",
     "output_type": "stream",
     "text": [
      "2015-12-07 11:14:07.697990 ...   trg = emi looks happy . * *\n"
     ]
    },
    {
     "name": "stderr",
     "output_type": "stream",
     "text": [
      "2015-12-07 11:14:07.698234 ...   hyp = i <unk> <unk> to * *\n"
     ]
    },
    {
     "name": "stderr",
     "output_type": "stream",
     "text": [
      "2015-12-07 11:14:08.466106 ... saving model ...\n"
     ]
    },
    {
     "name": "stderr",
     "output_type": "stream",
     "text": [
      "2015-12-07 11:14:08.533841 ... epoch 15/20: \n"
     ]
    },
    {
     "name": "stderr",
     "output_type": "stream",
     "text": [
      "2015-12-07 11:14:08.573406 ... epoch  15/ 20, sample        1\n"
     ]
    },
    {
     "name": "stderr",
     "output_type": "stream",
     "text": [
      "2015-12-07 11:14:08.573747 ...   src = エミ は 幸せ そう に 見え ま す 。 * * * * *\n"
     ]
    },
    {
     "name": "stderr",
     "output_type": "stream",
     "text": [
      "2015-12-07 11:14:08.574041 ...   trg = emi looks happy . * *\n"
     ]
    },
    {
     "name": "stderr",
     "output_type": "stream",
     "text": [
      "2015-12-07 11:14:08.574304 ...   hyp = i <unk> <unk> to * *\n"
     ]
    },
    {
     "name": "stderr",
     "output_type": "stream",
     "text": [
      "2015-12-07 11:14:09.343855 ... saving model ...\n"
     ]
    },
    {
     "name": "stderr",
     "output_type": "stream",
     "text": [
      "2015-12-07 11:14:09.423500 ... epoch 16/20: \n"
     ]
    },
    {
     "name": "stderr",
     "output_type": "stream",
     "text": [
      "2015-12-07 11:14:09.469821 ... epoch  16/ 20, sample        1\n"
     ]
    },
    {
     "name": "stderr",
     "output_type": "stream",
     "text": [
      "2015-12-07 11:14:09.470193 ...   src = エミ は 幸せ そう に 見え ま す 。 * * * * *\n"
     ]
    },
    {
     "name": "stderr",
     "output_type": "stream",
     "text": [
      "2015-12-07 11:14:09.470556 ...   trg = emi looks happy . * *\n"
     ]
    },
    {
     "name": "stderr",
     "output_type": "stream",
     "text": [
      "2015-12-07 11:14:09.470855 ...   hyp = i <unk> <unk> to * *\n"
     ]
    },
    {
     "name": "stderr",
     "output_type": "stream",
     "text": [
      "2015-12-07 11:14:10.192863 ... saving model ...\n"
     ]
    },
    {
     "name": "stderr",
     "output_type": "stream",
     "text": [
      "2015-12-07 11:14:10.257455 ... epoch 17/20: \n"
     ]
    },
    {
     "name": "stderr",
     "output_type": "stream",
     "text": [
      "2015-12-07 11:14:10.296931 ... epoch  17/ 20, sample        1\n"
     ]
    },
    {
     "name": "stderr",
     "output_type": "stream",
     "text": [
      "2015-12-07 11:14:10.297277 ...   src = エミ は 幸せ そう に 見え ま す 。 * * * * *\n"
     ]
    },
    {
     "name": "stderr",
     "output_type": "stream",
     "text": [
      "2015-12-07 11:14:10.297575 ...   trg = emi looks happy . * *\n"
     ]
    },
    {
     "name": "stderr",
     "output_type": "stream",
     "text": [
      "2015-12-07 11:14:10.297814 ...   hyp = i <unk> <unk> to * *\n"
     ]
    },
    {
     "name": "stderr",
     "output_type": "stream",
     "text": [
      "2015-12-07 11:14:11.047788 ... saving model ...\n"
     ]
    },
    {
     "name": "stderr",
     "output_type": "stream",
     "text": [
      "2015-12-07 11:14:11.130845 ... epoch 18/20: \n"
     ]
    },
    {
     "name": "stderr",
     "output_type": "stream",
     "text": [
      "2015-12-07 11:14:11.169324 ... epoch  18/ 20, sample        1\n"
     ]
    },
    {
     "name": "stderr",
     "output_type": "stream",
     "text": [
      "2015-12-07 11:14:11.169675 ...   src = エミ は 幸せ そう に 見え ま す 。 * * * * *\n"
     ]
    },
    {
     "name": "stderr",
     "output_type": "stream",
     "text": [
      "2015-12-07 11:14:11.170098 ...   trg = emi looks happy . * *\n"
     ]
    },
    {
     "name": "stderr",
     "output_type": "stream",
     "text": [
      "2015-12-07 11:14:11.170380 ...   hyp = i <unk> <unk> to * *\n"
     ]
    },
    {
     "name": "stderr",
     "output_type": "stream",
     "text": [
      "2015-12-07 11:14:11.891613 ... saving model ...\n"
     ]
    },
    {
     "name": "stderr",
     "output_type": "stream",
     "text": [
      "2015-12-07 11:14:11.980195 ... epoch 19/20: \n"
     ]
    },
    {
     "name": "stderr",
     "output_type": "stream",
     "text": [
      "2015-12-07 11:14:12.022011 ... epoch  19/ 20, sample        1\n"
     ]
    },
    {
     "name": "stderr",
     "output_type": "stream",
     "text": [
      "2015-12-07 11:14:12.022356 ...   src = エミ は 幸せ そう に 見え ま す 。 * * * * *\n"
     ]
    },
    {
     "name": "stderr",
     "output_type": "stream",
     "text": [
      "2015-12-07 11:14:12.022601 ...   trg = emi looks happy . * *\n"
     ]
    },
    {
     "name": "stderr",
     "output_type": "stream",
     "text": [
      "2015-12-07 11:14:12.022855 ...   hyp = i <unk> <unk> to * *\n"
     ]
    },
    {
     "name": "stderr",
     "output_type": "stream",
     "text": [
      "2015-12-07 11:14:12.730791 ... saving model ...\n"
     ]
    },
    {
     "name": "stderr",
     "output_type": "stream",
     "text": [
      "2015-12-07 11:14:12.798625 ... epoch 20/20: \n"
     ]
    },
    {
     "name": "stderr",
     "output_type": "stream",
     "text": [
      "2015-12-07 11:14:12.840695 ... epoch  20/ 20, sample        1\n"
     ]
    },
    {
     "name": "stderr",
     "output_type": "stream",
     "text": [
      "2015-12-07 11:14:12.841038 ...   src = エミ は 幸せ そう に 見え ま す 。 * * * * *\n"
     ]
    },
    {
     "name": "stderr",
     "output_type": "stream",
     "text": [
      "2015-12-07 11:14:12.841383 ...   trg = emi looks happy . * *\n"
     ]
    },
    {
     "name": "stderr",
     "output_type": "stream",
     "text": [
      "2015-12-07 11:14:12.841675 ...   hyp = i <unk> <unk> to * *\n"
     ]
    },
    {
     "name": "stderr",
     "output_type": "stream",
     "text": [
      "2015-12-07 11:14:13.581758 ... saving model ...\n"
     ]
    },
    {
     "name": "stderr",
     "output_type": "stream",
     "text": [
      "2015-12-07 11:14:13.648754 ... finished.\n"
     ]
    }
   ],
   "source": [
    "def main():\n",
    "\n",
    "    trace('initializing ...')\n",
    "    wrapper.init()\n",
    "\n",
    "    encoderDecoderModel = EncoderDecoderModelForward(parameter_dict)\n",
    "\n",
    "    if mode == 'train': encoderDecoderModel.train_model()\n",
    "    elif mode == 'test': encoderDecoderModel.test_model()\n",
    "\n",
    "\n",
    "if __name__ == '__main__':\n",
    "    main()"
   ]
  },
  {
   "cell_type": "markdown",
   "metadata": {},
   "source": [
    "## 6.学習したモデルを使用したテスト (Advanced)"
   ]
  },
  {
   "cell_type": "markdown",
   "metadata": {},
   "source": [
    "学習したモデルを使用してテスト\n",
    "\n",
    "* 学習したモデルを利用してテストデータ（日本語）を英語に翻訳しモデルに保存。"
   ]
  },
  {
   "cell_type": "code",
   "execution_count": 5,
   "metadata": {},
   "outputs": [
    {
     "name": "stderr",
     "output_type": "stream",
     "text": [
      "2015-12-07 11:14:13.654172 ... initializing ...\n"
     ]
    },
    {
     "name": "stderr",
     "output_type": "stream",
     "text": [
      "2015-12-07 11:14:13.655221 ... loading model ...\n"
     ]
    },
    {
     "name": "stderr",
     "output_type": "stream",
     "text": [
      "2015-12-07 11:14:13.698094 ... generating translation ...\n"
     ]
    },
    {
     "name": "stderr",
     "output_type": "stream",
     "text": [
      "2015-12-07 11:14:13.699321 ... sample        1 -       64 ...\n"
     ]
    },
    {
     "name": "stderr",
     "output_type": "stream",
     "text": [
      "2015-12-07 11:14:13.725193 ... sample       65 -      128 ...\n"
     ]
    },
    {
     "name": "stderr",
     "output_type": "stream",
     "text": [
      "2015-12-07 11:14:13.758137 ... sample      129 -      192 ...\n"
     ]
    },
    {
     "name": "stdout",
     "output_type": "stream",
     "text": [
      "i have a <unk> <unk> to the <unk> .\nhe is <unk> to the <unk> .\ni have a <unk> to <unk> .\nshe <unk> to <unk> to the <unk> .\ni have a <unk> <unk> to the <unk> .\nhe is <unk> to the <unk> .\ni have <unk> to <unk> to the <unk> .\ni have a <unk> to the <unk> .\ni have a <unk> <unk> to the <unk> .\ni have <unk> to <unk> to the <unk> .\ni have a <unk> <unk> to the <unk> .\ni have <unk> a <unk> <unk> the <unk> .\ni have <unk> a <unk> <unk> the <unk> .\ni have <unk> to <unk> to the <unk> .\ni have a <unk> to the <unk> .\nshe <unk> <unk> to the <unk> .\nshe <unk> to <unk> to the <unk> .\ni have a <unk> <unk> to the <unk> .\ni have <unk> to <unk> to the <unk> .\ni have a <unk> <unk> to the <unk> .\ni have <unk> to <unk> to the <unk> .\nhe is <unk> to the <unk> .\ni have <unk> to <unk> to the <unk> .\nhe is <unk> to the <unk> .\ni have <unk> to <unk> to the <unk> .\ni have a <unk> <unk> to the <unk> .\ni have a <unk> to <unk> to the <unk> .\ni have a <unk> to the <unk> .\nshe <unk> <unk> to the <unk> .\ni have a <unk> <unk> to the <unk> .\ni have a <unk> <unk> the <unk> .\ni have <unk> to <unk> to the <unk> .\ni have <unk> to <unk> to the <unk> .\ni have <unk> to <unk> to the <unk> .\ni have <unk> to <unk> to the <unk> .\nhe is <unk> to the <unk> .\ni have a <unk> to the <unk> .\ni have <unk> to <unk> to the <unk> .\ni have a <unk> to the <unk> .\nhe is <unk> to the <unk> .\ni have <unk> a <unk> <unk> the <unk> .\ni have a <unk> <unk> to the <unk> .\ni have <unk> to <unk> to the <unk> .\ni have a <unk> to the <unk> .\ni have to <unk> to the <unk> .\ni have <unk> to <unk> to the <unk> .\nhe is <unk> to the <unk> .\ni have a <unk> <unk> to the <unk> .\ni have <unk> to <unk> to the <unk> .\ni have <unk> a <unk> <unk> the <unk> .\ni have to <unk> to the <unk> .\ni have a <unk> <unk> to the <unk> .\nhe is <unk> to the <unk> .\ni have a <unk> <unk> to the <unk> .\ni have a <unk> <unk> to the <unk> .\ni have a <unk> <unk> to the <unk> .\nhe is <unk> to the <unk> .\ni have <unk> to <unk> to the <unk> .\nhe is <unk> to the <unk> .\nhe is <unk> to the <unk> .\nyou is <unk> to <unk> to the <unk> .\ni have a <unk> to the <unk> .\ni have to <unk> to the <unk> .\ni have a <unk> to the <unk> .\nhe is <unk> to the <unk> .\nhe is <unk> to the <unk> .\ni have <unk> to <unk> to the <unk> .\ni have a <unk> <unk> to the <unk> .\ni have <unk> to <unk> to the <unk> .\ni have a <unk> to the <unk> .\ni have <unk> to <unk> to the <unk> .\ni have <unk> to <unk> to the <unk> .\ni have <unk> to <unk> to the <unk> .\ni have a <unk> <unk> to the <unk> .\ni have <unk> to <unk> to the <unk> .\ni have <unk> a <unk> <unk> the <unk> .\nhe <unk> to the <unk> to the <unk> .\ni have <unk> to <unk> to the <unk> .\nhe is <unk> to the <unk> .\ni have a <unk> to the <unk> .\ni have a <unk> <unk> to the <unk> .\ni have a <unk> to the <unk> .\nshe <unk> <unk> to the <unk> .\nhe is <unk> to the <unk> .\ni have a <unk> <unk> to the <unk> .\ni have a <unk> <unk> to the <unk> .\nhe is <unk> to the <unk> .\ni have <unk> a <unk> <unk> the <unk> .\ni have <unk> a <unk> <unk> to the <unk> .\nshe <unk> <unk> to <unk> to the <unk> .\nhe is <unk> to the <unk> .\ni have a <unk> <unk> to the <unk> .\ni have a <unk> <unk> to the <unk> .\ni have <unk> to <unk> to the <unk> .\nhe is <unk> to the <unk> .\ni have <unk> to <unk> to the <unk> .\ni have <unk> to <unk> to the <unk> .\nhe is <unk> to the <unk> .\ni have a <unk> <unk> to the <unk> .\nhe is <unk> to the <unk> .\nhe is <unk> to the <unk> .\ni have a <unk> <unk> to the <unk> .\ni have <unk> a <unk> <unk> the <unk> .\ni have <unk> a <unk> <unk> the <unk> .\nhe is <unk> to the <unk> .\ni have a <unk> to the <unk> .\ni have a <unk> <unk> to the <unk> .\nhe is <unk> to the <unk> .\ni have <unk> to the <unk> .\ni have a <unk> <unk> to the <unk> .\nhe is <unk> to the <unk> .\nhe is <unk> to the <unk> .\ni have <unk> to <unk> to the <unk> .\nhe is <unk> to the <unk> .\nhe is <unk> to the <unk> .\ni have a <unk> <unk> to the <unk> .\ni have <unk> to <unk> to the <unk> .\ni have to <unk> to the <unk> .\nhe is <unk> to the <unk> .\nhe is <unk> to the <unk> .\n<unk> to <unk> to the <unk> to the <unk> .\ni have <unk> a <unk> <unk> to the <unk> .\ni have <unk> to <unk> to the <unk> .\nhe is <unk> to the <unk> .\ni have a <unk> <unk> to the <unk> .\ni have a <unk> <unk> to the <unk> .\ni have a <unk> <unk> to the <unk> .\ni have <unk> to the <unk> .\ni have <unk> to <unk> to the <unk> ."
     ]
    },
    {
     "name": "stderr",
     "output_type": "stream",
     "text": [
      "2015-12-07 11:14:13.784948 ... sample      193 -      256 ...\n"
     ]
    },
    {
     "name": "stderr",
     "output_type": "stream",
     "text": [
      "2015-12-07 11:14:13.811771 ... sample      257 -      320 ...\n"
     ]
    },
    {
     "name": "stdout",
     "output_type": "stream",
     "text": [
      "\ni have a <unk> to <unk> to the <unk> .\ni have a <unk> <unk> to the <unk> .\ni have a <unk> <unk> to the <unk> .\ni have a <unk> <unk> to the <unk> .\ni have a <unk> <unk> to the <unk> .\nhe is <unk> to the <unk> .\ni have <unk> a <unk> <unk> the <unk> .\ni have <unk> to <unk> to the <unk> .\ni have a <unk> to the <unk> .\ni have a <unk> <unk> to the <unk> .\nshe <unk> <unk> to the <unk> .\nhe is <unk> to the <unk> .\ni have <unk> to the <unk> to the <unk> .\ni have <unk> to <unk> to the <unk> .\nyou is <unk> to the <unk> .\ni have <unk> a <unk> <unk> the <unk> .\nhe is <unk> to the <unk> .\ni have a <unk> <unk> to the <unk> .\ni have <unk> to <unk> to the <unk> .\ni have a <unk> <unk> to the <unk> .\ni have a <unk> <unk> to the <unk> .\ni have a <unk> to the <unk> .\ni have <unk> a <unk> <unk> the <unk> .\ni have to <unk> to the <unk> to the <unk> .\nhe is <unk> to the <unk> .\nhe is <unk> to the <unk> .\ni have to <unk> to the <unk> .\ni have <unk> to the <unk> .\ni have a <unk> <unk> to the <unk> .\ni have <unk> to <unk> to the <unk> .\ni have <unk> to <unk> to the <unk> .\ni have to <unk> to the <unk> .\nshe <unk> <unk> to the <unk> .\ni have <unk> to <unk> to the <unk> .\ni have <unk> a <unk> <unk> the <unk> .\nhe is <unk> to the <unk> .\ni have a <unk> <unk> to the <unk> .\ni have <unk> to the <unk> .\nhe is <unk> to the <unk> .\ni have a <unk> <unk> to the <unk> .\ni have a <unk> <unk> to the <unk> .\ni have <unk> to <unk> to the <unk> .\ni have <unk> a <unk> <unk> to the <unk> .\ni have a <unk> <unk> to the <unk> .\ni have <unk> to <unk> to the <unk> .\ni have a <unk> <unk> to the <unk> .\ni have a <unk> <unk> to the <unk> .\ni have a <unk> to <unk> to the <unk> .\nhe is <unk> to the <unk> .\ni have a <unk> to <unk> to the <unk> .\nhe is <unk> to the <unk> .\ni have <unk> to <unk> to the <unk> .\ni have <unk> to the <unk> to the <unk> .\ni have a <unk> to the <unk> .\nhe is <unk> to the <unk> .\nhe is <unk> to the <unk> .\ni have <unk> to <unk> to the <unk> .\ni have a <unk> to the <unk> .\ni have a <unk> <unk> to the <unk> .\ni have a <unk> <unk> to the <unk> .\ni have a <unk> to the <unk> .\n<unk> <unk> to the <unk> to the <unk> .\nhe is <unk> to the <unk> .\ni have a <unk> <unk> to the <unk> .\nhe is <unk> to the <unk> .\ni have a <unk> to the <unk> .\ni have <unk> to <unk> to the <unk> .\ni have <unk> to the <unk> to the <unk> .\ni have <unk> to <unk> to the <unk> .\ni have a <unk> to the <unk> .\nhe is <unk> to the <unk> .\nshe <unk> <unk> <unk> <unk> the <unk> .\nyou is <unk> to the <unk> .\ni have a <unk> to the <unk> .\ni have <unk> to <unk> to the <unk> .\ni have <unk> to <unk> to the <unk> .\ni have a <unk> <unk> to the <unk> .\ni have a <unk> <unk> to the <unk> .\ni have <unk> to <unk> to the <unk> .\ni have <unk> a <unk> <unk> to the <unk> .\ni have <unk> to <unk> to the <unk> .\nyou is <unk> to the <unk> .\ni have a <unk> <unk> to the <unk> .\ni have <unk> to <unk> to the <unk> .\nyou is <unk> to the <unk> .\nyou is <unk> to the <unk> .\nshe <unk> to <unk> to the <unk> .\ni have <unk> a <unk> <unk> the <unk> .\ni have a <unk> <unk> to the <unk> .\ni have a <unk> <unk> to the <unk> .\nhe is <unk> to the <unk> .\nhe is <unk> to the <unk> .\nshe <unk> <unk> <unk> <unk> the <unk> .\ni have to <unk> to the <unk> .\ni have a <unk> <unk> to the <unk> .\nhe is <unk> to the <unk> .\ni have a <unk> <unk> to the <unk> .\nhe is <unk> to the <unk> .\ni have a <unk> <unk> to the <unk> .\ni have a <unk> <unk> to the <unk> .\nhe is <unk> to the <unk> .\ni have a <unk> to the <unk> .\ni have <unk> a <unk> <unk> the <unk> .\nhe is <unk> to the <unk> .\ni have <unk> a <unk> <unk> the <unk> .\ni have a <unk> <unk> to the <unk> .\ni have a <unk> to <unk> to the <unk> .\nshe <unk> <unk> to the <unk> .\ni have a <unk> <unk> to the <unk> .\ni have <unk> to <unk> to the <unk> .\ni have a <unk> to the <unk> .\ni have a <unk> <unk> to the <unk> .\nshe is <unk> to <unk> to the <unk> .\ni have a <unk> <unk> to the <unk> .\ni have a <unk> to the <unk> .\ni have a <unk> <unk> to the <unk> .\ni have <unk> to <unk> to the <unk> .\ni have a <unk> <unk> to the <unk> .\ni have <unk> a <unk> <unk> the <unk> .\ni have a <unk> <unk> to the <unk> .\ni have <unk> a <unk> <unk> the <unk> .\ni have a <unk> to <unk> to the <unk> .\ni have <unk> to <unk> to the <unk> .\nhe is <unk> to the <unk> .\nhe is <unk> to the <unk> .\nshe <unk> <unk> to <unk> to the <unk> .\ni have <unk> to <unk> to the <unk> .\ni have <unk> to <unk> to the <unk> ."
     ]
    },
    {
     "name": "stderr",
     "output_type": "stream",
     "text": [
      "2015-12-07 11:14:13.840866 ... sample      321 -      384 ...\n"
     ]
    },
    {
     "name": "stderr",
     "output_type": "stream",
     "text": [
      "2015-12-07 11:14:13.867332 ... sample      385 -      448 ...\n"
     ]
    },
    {
     "name": "stdout",
     "output_type": "stream",
     "text": [
      "\ni have a <unk> <unk> to the <unk> .\ni have a <unk> <unk> to the <unk> .\nshe <unk> <unk> to the <unk> .\ni have <unk> to <unk> to the <unk> .\nhe is <unk> to the <unk> .\nhe is <unk> to the <unk> .\ni have <unk> to <unk> to the <unk> .\ni have <unk> to <unk> to the <unk> .\ni have <unk> to the <unk> to the <unk> .\ni have a <unk> <unk> to the <unk> .\ni have <unk> to <unk> to the <unk> .\ni have <unk> a <unk> <unk> to the <unk> .\nhe is <unk> to the <unk> .\ni have a <unk> <unk> to the <unk> .\ni have <unk> to <unk> to the <unk> .\nhe is <unk> to the <unk> .\nhe is <unk> to the <unk> to the <unk> .\nhe is <unk> to the <unk> .\ni have <unk> a <unk> <unk> the <unk> .\ni have a <unk> to <unk> to the <unk> .\ni have a <unk> <unk> to the <unk> .\ni have <unk> a <unk> <unk> the <unk> .\ni have to been to <unk> to the <unk> .\ni have a <unk> to the <unk> .\nhe is <unk> to the <unk> .\ni have <unk> to <unk> to the <unk> .\ni have a <unk> to <unk> to the <unk> .\nhe <unk> to the <unk> to the <unk> .\ni have to <unk> to the <unk> .\ni have <unk> to the <unk> .\ni have a <unk> to the <unk> .\ni have a <unk> <unk> to the <unk> .\ni have a <unk> <unk> to the <unk> .\nhe is <unk> to the <unk> .\ni have <unk> to <unk> to the <unk> .\nhe is <unk> to the <unk> .\ni have <unk> to <unk> to the <unk> .\ni have <unk> to <unk> to the <unk> .\ni have to <unk> to the <unk> .\nhe is <unk> to the <unk> .\ni have <unk> a <unk> <unk> the <unk> .\ni have <unk> to <unk> to the <unk> .\nshe <unk> to <unk> to the <unk> .\ni have <unk> to <unk> to the <unk> .\ni have <unk> to <unk> to the <unk> .\ni have a <unk> to the <unk> .\ni have a <unk> to the <unk> .\ni have <unk> to <unk> to the <unk> .\ni have <unk> a <unk> <unk> to the <unk> .\ni have <unk> to <unk> to the <unk> .\ni have a <unk> <unk> to the <unk> .\ni have <unk> to <unk> to the <unk> .\ni have <unk> to <unk> to the <unk> .\nhe is <unk> to the <unk> .\nhe is <unk> to the <unk> .\nhe is <unk> to the <unk> .\nshe <unk> to <unk> to the <unk> .\ni have to <unk> to the <unk> .\nshe is <unk> to the <unk> .\ni have a <unk> <unk> to the <unk> .\ni have <unk> to <unk> to the <unk> .\ni have <unk> to <unk> to the <unk> .\nhe is <unk> to the <unk> .\ni have a <unk> <unk> the <unk> .\ni have a <unk> <unk> to the <unk> .\ni have <unk> to <unk> to the <unk> .\nhe is <unk> to the <unk> .\ni have <unk> a <unk> <unk> the <unk> .\ni have a <unk> to the <unk> .\ni have a <unk> <unk> to the <unk> .\ni have <unk> to <unk> to the <unk> .\nhe is <unk> to the <unk> .\ni have <unk> a <unk> <unk> to the <unk> .\ni have <unk> a <unk> <unk> the <unk> .\ni have a <unk> <unk> to the <unk> .\ni have <unk> to <unk> to the <unk> .\ni have a <unk> to the <unk> .\ni have <unk> to the <unk> to the <unk> .\ni have a <unk> to <unk> to the <unk> .\nhe is <unk> to the <unk> .\ni have a <unk> <unk> to the <unk> .\ni have a <unk> <unk> to the <unk> .\ni have a <unk> <unk> to the <unk> .\nhe is <unk> to the <unk> .\ni have a <unk> <unk> to the <unk> .\ni <unk> to <unk> to the <unk> .\ni have <unk> a <unk> <unk> the <unk> .\ni have a <unk> to the <unk> .\ni have a <unk> <unk> to the <unk> .\ni have <unk> a <unk> <unk> to the <unk> .\ni have to <unk> to the <unk> to the <unk> .\ni have <unk> to <unk> to the <unk> .\nhe is <unk> to the <unk> .\nshe <unk> <unk> to <unk> to the <unk> .\ni have a <unk> <unk> to the <unk> .\ni have a <unk> <unk> to the <unk> .\ni have <unk> to <unk> to the <unk> .\ni have <unk> to <unk> to the <unk> .\ni have a <unk> to the <unk> .\ni have <unk> to the <unk> to the <unk> .\nhe is <unk> to the <unk> .\ni have <unk> to <unk> to the <unk> .\ni have a <unk> <unk> to the <unk> .\ni have a <unk> <unk> to the <unk> .\ni have <unk> to <unk> to the <unk> .\ni have a <unk> <unk> to the <unk> .\ni have <unk> a <unk> <unk> to the <unk> .\ni have a <unk> <unk> to the <unk> .\ni have a <unk> <unk> to the <unk> .\nhe is <unk> to the <unk> .\ni have <unk> to <unk> to the <unk> .\ni have <unk> to <unk> to the <unk> .\ni have <unk> to the <unk> .\ni have a <unk> <unk> to the <unk> .\nshe <unk> <unk> to the <unk> .\ni have <unk> to <unk> to the <unk> .\ni have a <unk> to the <unk> .\ni have a <unk> <unk> to the <unk> .\nshe <unk> to <unk> to the <unk> .\ni have a <unk> <unk> to the <unk> .\ni have a <unk> <unk> to the <unk> .\ni have <unk> to <unk> to the <unk> .\ni have a <unk> <unk> to the <unk> .\ni have a <unk> <unk> to the <unk> .\ni have a <unk> to <unk> to the <unk> .\ni have a <unk> to <unk> .\ni have a <unk> <unk> to the <unk> .\ni have <unk> to the <unk> ."
     ]
    },
    {
     "name": "stderr",
     "output_type": "stream",
     "text": [
      "2015-12-07 11:14:13.896654 ... sample      449 -      512 ...\n"
     ]
    },
    {
     "name": "stderr",
     "output_type": "stream",
     "text": [
      "2015-12-07 11:14:13.923293 ... sample      513 -      576 ...\n"
     ]
    },
    {
     "name": "stdout",
     "output_type": "stream",
     "text": [
      "\ni have <unk> a <unk> <unk> the <unk> .\ni have to <unk> to the <unk> .\ni have <unk> to <unk> to the <unk> .\ni have a <unk> <unk> to the <unk> .\ni have a <unk> <unk> to the <unk> .\ni have a <unk> <unk> to the <unk> .\ni have a <unk> <unk> to the <unk> .\nhe is <unk> to the <unk> .\ni have to <unk> to the <unk> .\nhe is <unk> to the <unk> .\ni have <unk> to <unk> to the <unk> .\ni have <unk> a <unk> <unk> to the <unk> .\ni have <unk> to the <unk> to the <unk> .\nhe is <unk> to the <unk> .\ni have a <unk> to <unk> to the <unk> .\ni have <unk> to <unk> to the <unk> .\nshe <unk> to <unk> to the <unk> .\nhe is <unk> to the <unk> .\ni have a <unk> <unk> to the <unk> .\nyou you is to <unk> to the <unk> .\nhe is <unk> to the <unk> .\nyou is <unk> to the <unk> .\ni have <unk> to <unk> to the <unk> .\nhe is <unk> to the <unk> .\nshe is <unk> to <unk> to the <unk> .\ni have a <unk> <unk> to the <unk> .\ni have <unk> to <unk> to the <unk> .\nhe is <unk> to the <unk> .\nhe is <unk> to the <unk> .\nhe is <unk> to the <unk> .\ni have a <unk> <unk> to the <unk> .\nhe is <unk> to the <unk> .\ni have <unk> to <unk> to the <unk> .\ni have a <unk> <unk> to the <unk> .\ni have a <unk> to the <unk> .\nhe is <unk> to the <unk> .\ni have <unk> a <unk> <unk> the <unk> .\nhe is <unk> to the <unk> .\nhe is <unk> to the <unk> .\nhe is <unk> to the <unk> .\ni have <unk> to <unk> to the <unk> .\ni have a <unk> <unk> to the <unk> .\ni have a <unk> <unk> to the <unk> .\ni have <unk> to <unk> to the <unk> .\nhe is <unk> to the <unk> .\nshe <unk> <unk> <unk> <unk> the <unk> .\nhe is <unk> to the <unk> .\nhe is <unk> to the <unk> .\ni have a <unk> <unk> to the <unk> .\nhe is <unk> to the <unk> .\ni have a <unk> <unk> to the <unk> .\ni have <unk> to <unk> to the <unk> .\ni have <unk> a <unk> <unk> to the <unk> .\nhe is <unk> to the <unk> .\ni have a <unk> to the <unk> .\nhe is <unk> to the <unk> .\ni have <unk> to the <unk> to the <unk> .\ni have <unk> a <unk> <unk> the <unk> .\ni have a <unk> to <unk> .\ni have <unk> a <unk> <unk> the <unk> .\ni have <unk> to <unk> to the <unk> .\ni have to <unk> to the <unk> .\nshe <unk> <unk> <unk> <unk> the <unk> .\ni have a <unk> to <unk> to the <unk> .\nhe is <unk> to the <unk> .\ni have <unk> to <unk> to the <unk> .\ni have <unk> to <unk> to the <unk> .\ni have a <unk> <unk> to the <unk> .\ni have a <unk> <unk> to the <unk> .\ni have <unk> to <unk> to the <unk> .\ni have <unk> to the <unk> to the <unk> .\ni have a <unk> <unk> to the <unk> .\ni have a <unk> <unk> to the <unk> .\ni have <unk> to <unk> to the <unk> .\ni have <unk> to <unk> to the <unk> .\nyou you is to <unk> to the <unk> .\ni have a <unk> <unk> to the <unk> .\ni have a <unk> <unk> to the <unk> .\nhe is <unk> to the <unk> .\ni have a <unk> to the <unk> .\nyou is <unk> to the <unk> .\ni have <unk> to <unk> to the <unk> .\ni have <unk> to the <unk> to the <unk> .\ni have a <unk> <unk> to the <unk> .\ni have <unk> to the <unk> to the <unk> .\ni have a <unk> to the <unk> .\ni have a <unk> <unk> to the <unk> .\ni have <unk> to <unk> to the <unk> .\ni have to <unk> to the <unk> .\ni have to <unk> to the <unk> to the <unk> .\nhe is <unk> to the <unk> .\nshe <unk> to <unk> to the <unk> .\ni have a <unk> to the <unk> .\ni have a <unk> <unk> to the <unk> .\nhe is <unk> to the <unk> .\ni have <unk> to <unk> to the <unk> .\ni have a <unk> <unk> to the <unk> .\ni have a <unk> <unk> to the <unk> .\nhe is <unk> to the <unk> .\ni have a <unk> <unk> to the <unk> .\nhe is <unk> to the <unk> .\nshe <unk> to <unk> to the <unk> .\ni have a <unk> <unk> to the <unk> .\ni have a <unk> <unk> to the <unk> .\ni <unk> to <unk> to the <unk> .\ni have a <unk> to the <unk> .\nshe <unk> <unk> to the <unk> .\ni have a <unk> <unk> to the <unk> .\ni have <unk> to <unk> to the <unk> .\ni have a <unk> <unk> to the <unk> .\ni have a <unk> <unk> to the <unk> .\ni have a <unk> <unk> to the <unk> .\ni have a <unk> <unk> to the <unk> .\ni have <unk> to <unk> to the <unk> .\ni have to <unk> to the <unk> .\nhe is <unk> to the <unk> .\nhe is <unk> to the <unk> .\nhe is <unk> to the <unk> .\ni have <unk> to <unk> to the <unk> .\ni have a <unk> <unk> to the <unk> .\nshe <unk> <unk> to <unk> to the <unk> .\ni have <unk> to <unk> to the <unk> .\ni have <unk> a <unk> <unk> the <unk> .\ni have a <unk> <unk> to the <unk> .\ni have <unk> to <unk> to the <unk> .\nshe <unk> <unk> <unk> <unk> to the <unk> .\ni have a <unk> to the <unk> .\ni have a <unk> <unk> to the <unk> ."
     ]
    },
    {
     "name": "stderr",
     "output_type": "stream",
     "text": [
      "2015-12-07 11:14:13.949255 ... sample      577 -      640 ...\n"
     ]
    },
    {
     "name": "stderr",
     "output_type": "stream",
     "text": [
      "2015-12-07 11:14:13.975609 ... sample      641 -      704 ...\n"
     ]
    },
    {
     "name": "stdout",
     "output_type": "stream",
     "text": [
      "\nhe is <unk> to the <unk> .\ni have to <unk> to the <unk> .\ni have <unk> to <unk> to the <unk> .\ni have <unk> a <unk> <unk> the <unk> .\ni have a <unk> to the <unk> .\ni have <unk> a <unk> <unk> to the <unk> .\ni have a <unk> <unk> to the <unk> .\ni have a <unk> <unk> to the <unk> .\ni have <unk> a <unk> <unk> the <unk> .\ni have <unk> to <unk> to the <unk> .\nhe is <unk> to the <unk> .\nhe is <unk> to the <unk> .\nhe is <unk> to the <unk> .\ni have <unk> to <unk> to the <unk> .\ni have <unk> to <unk> to the <unk> .\nyou you is to <unk> to the <unk> .\nhe is <unk> to the <unk> .\ni have a <unk> <unk> to the <unk> .\ni have <unk> to <unk> to the <unk> .\ni have a <unk> <unk> to the <unk> .\ni have a <unk> to the <unk> .\ni have <unk> a <unk> <unk> to the <unk> .\ni have a <unk> to the <unk> .\ni have <unk> a <unk> <unk> to the <unk> .\ni have a <unk> <unk> to the <unk> .\ni have a <unk> to <unk> to the <unk> .\nhe is <unk> to the <unk> .\ni have <unk> to <unk> to the <unk> .\ni have a <unk> to the <unk> .\ni have <unk> to <unk> to the <unk> .\nshe <unk> <unk> to the <unk> .\nhe is <unk> to the <unk> .\ni have <unk> to <unk> to the <unk> .\ni have <unk> to <unk> to the <unk> .\nhe is <unk> to the <unk> .\nhe is <unk> to the <unk> .\ni have a <unk> to the <unk> .\nshe <unk> <unk> to <unk> to the <unk> .\ni have a <unk> <unk> to the <unk> .\ni have a <unk> to the <unk> .\ni have a <unk> <unk> to the <unk> .\ni have a <unk> to the <unk> .\ni have a <unk> <unk> to the <unk> .\ni have <unk> to <unk> to the <unk> .\ni have <unk> to <unk> to the <unk> .\ni have a <unk> <unk> to the <unk> .\nshe <unk> to <unk> to the <unk> .\nhe is <unk> to the <unk> .\ni have <unk> a <unk> <unk> to the <unk> .\ni have a <unk> <unk> to the <unk> .\ni have a <unk> to <unk> to the <unk> .\ni have a <unk> <unk> to the <unk> .\ni have <unk> a <unk> <unk> the <unk> .\ni have a <unk> to the <unk> .\nshe <unk> <unk> to <unk> to the <unk> .\ni have a <unk> to <unk> to the <unk> .\ni have a <unk> <unk> to the <unk> .\n<unk> is <unk> to the <unk> .\ni have <unk> a <unk> <unk> the <unk> .\nshe <unk> <unk> to the <unk> .\ni have <unk> to <unk> to the <unk> .\ni have a <unk> <unk> to the <unk> .\ni have <unk> to <unk> to the <unk> .\nhe is <unk> to the <unk> .\ni have <unk> to <unk> to the <unk> .\ni have a <unk> <unk> to the <unk> .\nhe is <unk> to the <unk> .\nhe is <unk> to the <unk> .\ni have <unk> to <unk> to the <unk> .\nhe is <unk> to the <unk> .\nhe is <unk> to the <unk> .\ni have <unk> to the <unk> .\ni have a <unk> to the <unk> .\nyou is <unk> to the <unk> .\ni have a <unk> <unk> to the <unk> .\ni have a <unk> <unk> to the <unk> .\ni have a <unk> <unk> to the <unk> .\nhe is <unk> to the <unk> .\ni have <unk> to <unk> to the <unk> .\ni have a <unk> <unk> to the <unk> .\nhe is <unk> to the <unk> .\nhe is <unk> to the <unk> .\nhe is <unk> to the <unk> .\nhe is <unk> to the <unk> .\ni have a <unk> <unk> to the <unk> .\nhe is <unk> to the <unk> .\ni have <unk> to <unk> to the <unk> .\ni have <unk> a <unk> <unk> to the <unk> .\nhe is <unk> to the <unk> .\ni have a <unk> to <unk> to the <unk> .\nhe is <unk> to the <unk> .\ni have a <unk> <unk> to the <unk> .\ni have a <unk> <unk> to the <unk> .\nyou is <unk> to the <unk> .\ni have <unk> to <unk> to the <unk> .\ni have <unk> to <unk> to the <unk> .\ni have <unk> a <unk> <unk> the <unk> .\ni have <unk> a <unk> <unk> the <unk> .\ni have a <unk> <unk> to the <unk> .\ni have <unk> to <unk> to the <unk> .\ni have a <unk> to <unk> to the <unk> .\ni have <unk> to the <unk> to the <unk> .\ni have a <unk> <unk> to the <unk> .\ni have a <unk> <unk> to the <unk> .\ni have a <unk> <unk> to the <unk> .\ni have a <unk> <unk> to the <unk> .\ni have a <unk> <unk> to the <unk> .\nhe is <unk> to the <unk> .\ni have a <unk> <unk> to the <unk> .\ni have to been to <unk> to the <unk> .\ni have <unk> to <unk> to the <unk> .\nhe is <unk> to the <unk> .\nshe <unk> to <unk> to the <unk> .\ni have a <unk> to the <unk> .\ni have <unk> to <unk> to the <unk> .\ni have a <unk> to the <unk> .\ni have a <unk> to the <unk> .\nyou is <unk> to the <unk> .\ni have <unk> to <unk> to the <unk> .\ni have <unk> to <unk> to the <unk> .\ni have <unk> a <unk> <unk> the <unk> .\ni have a <unk> to <unk> to the <unk> .\ni have <unk> to the <unk> .\ni have a <unk> <unk> to the <unk> .\ni have <unk> to <unk> to the <unk> .\ni have a <unk> to the <unk> .\ni have a <unk> <unk> to the <unk> .\ni have <unk> a <unk> <unk> the <unk> ."
     ]
    },
    {
     "name": "stderr",
     "output_type": "stream",
     "text": [
      "2015-12-07 11:14:14.001537 ... sample      705 -      768 ...\n"
     ]
    },
    {
     "name": "stderr",
     "output_type": "stream",
     "text": [
      "2015-12-07 11:14:14.026878 ... sample      769 -      832 ...\n"
     ]
    },
    {
     "name": "stdout",
     "output_type": "stream",
     "text": [
      "\ni have <unk> to <unk> to the <unk> .\n<unk> <unk> to the <unk> to the <unk> .\nhe is <unk> to the <unk> .\nhe is <unk> to the <unk> .\ni have a <unk> to the <unk> .\ni have <unk> to <unk> to the <unk> .\nyou is <unk> to the <unk> .\ni have a <unk> to <unk> to the <unk> .\ni have <unk> a <unk> <unk> the <unk> .\ni have a <unk> <unk> to the <unk> .\nhe is <unk> to the <unk> .\nhe is <unk> to the <unk> .\nyou is <unk> to <unk> to the <unk> .\nshe <unk> <unk> to the <unk> .\nhe is <unk> to the <unk> .\nshe <unk> <unk> to <unk> to the <unk> .\ni have <unk> to <unk> to the <unk> .\nhe is <unk> to the <unk> .\ni have to <unk> to the <unk> .\nhe is <unk> to the <unk> .\nshe <unk> to <unk> to the <unk> .\ni have a <unk> <unk> to the <unk> .\ni <unk> to <unk> to the <unk> .\ni have <unk> to <unk> to the <unk> .\ni have a <unk> to the <unk> .\nhe is <unk> to the <unk> .\ni have <unk> to <unk> to the <unk> .\ni have <unk> to <unk> to the <unk> .\ni have <unk> a <unk> <unk> to the <unk> .\nyou you is to <unk> to the <unk> .\nshe <unk> <unk> <unk> <unk> the <unk> .\ni have <unk> to <unk> to the <unk> .\nhe is <unk> to the <unk> .\ni have <unk> a <unk> <unk> the <unk> .\ni have <unk> to <unk> to the <unk> .\ni have <unk> a <unk> <unk> to the <unk> .\ni have a <unk> <unk> to the <unk> .\ni have <unk> a <unk> <unk> the <unk> .\ni have a <unk> to the <unk> .\ni have <unk> to <unk> to the <unk> .\nhe is <unk> to the <unk> .\nyou you is <unk> to <unk> to the <unk> .\ni have a <unk> to the <unk> .\ni have a <unk> to the <unk> .\ni have a <unk> <unk> to the <unk> .\ni have <unk> to <unk> to the <unk> .\ni have a <unk> <unk> to the <unk> .\nhe is <unk> to the <unk> .\ni have to <unk> to the <unk> .\nhe is <unk> to the <unk> .\nhe is <unk> to the <unk> .\ni have a <unk> <unk> to the <unk> .\ni have a <unk> to the <unk> .\n<unk> to <unk> to the <unk> .\ni have <unk> to <unk> to the <unk> .\nhe is <unk> to the <unk> .\nhe is <unk> to the <unk> .\ni have <unk> to <unk> to the <unk> .\ni have <unk> a <unk> <unk> the <unk> .\ni have <unk> a <unk> <unk> the <unk> .\ni have a <unk> <unk> to the <unk> .\ni have <unk> a <unk> <unk> to the <unk> .\ni have a <unk> to the <unk> .\ni have a <unk> to <unk> to the <unk> .\ni have a <unk> <unk> to the <unk> .\nhe is <unk> to the <unk> .\ni have <unk> to <unk> to the <unk> .\ni have <unk> to <unk> to the <unk> .\nyou you to <unk> to the <unk> .\ni have a <unk> <unk> to the <unk> .\ni have a <unk> <unk> to the <unk> .\ni have to <unk> to the <unk> .\nshe <unk> <unk> to the <unk> .\ni have <unk> to <unk> to the <unk> .\ni have a <unk> to <unk> to the <unk> .\ni have a <unk> <unk> to the <unk> .\nyou <unk> to the <unk> to the <unk> .\ni have <unk> to <unk> to the <unk> .\ni have <unk> to the <unk> to the <unk> .\ni have a <unk> <unk> to the <unk> .\nhe is <unk> to the <unk> .\ni have a <unk> <unk> to the <unk> .\ni have a <unk> <unk> to the <unk> .\nhe is <unk> to the <unk> .\ni have a <unk> <unk> to the <unk> .\ni have <unk> to <unk> to the <unk> .\nhe is <unk> to the <unk> .\ni have a <unk> <unk> to the <unk> .\nhe is <unk> to the <unk> .\ni have a <unk> <unk> to the <unk> .\ni have a <unk> <unk> to the <unk> .\ni have <unk> to <unk> to the <unk> .\ni have a <unk> to <unk> to the <unk> .\ni have a <unk> <unk> to the <unk> .\ni have a <unk> <unk> to the <unk> .\ni have a <unk> <unk> to the <unk> .\nyou is <unk> to the <unk> .\ni have a <unk> <unk> to the <unk> .\ni have <unk> to <unk> to the <unk> .\nshe <unk> <unk> <unk> <unk> the <unk> .\ni have <unk> to <unk> to the <unk> .\ni have <unk> to <unk> to the <unk> .\ni have a <unk> to the <unk> .\ni have a <unk> <unk> to the <unk> .\nshe is <unk> to the <unk> .\nhe is <unk> to the <unk> .\ni have a <unk> <unk> to the <unk> .\nhe is <unk> to the <unk> .\nhe is <unk> to the <unk> .\nhe is <unk> to the <unk> .\nhe is <unk> to the <unk> .\ni have a <unk> <unk> to the <unk> .\ni have a <unk> <unk> to the <unk> .\ni have <unk> to <unk> to the <unk> .\ni have <unk> to <unk> to the <unk> .\ni have a <unk> to <unk> to the <unk> .\nhe is <unk> to the <unk> .\nhe is <unk> to the <unk> .\ni have <unk> to <unk> to the <unk> .\nhe is <unk> to the <unk> .\ni have a <unk> <unk> to the <unk> .\ni have a <unk> to the <unk> .\ni have a <unk> <unk> to the <unk> .\ni have a <unk> <unk> to the <unk> .\nhe is <unk> to the <unk> .\nhe is <unk> to the <unk> .\ni have a <unk> to <unk> to the <unk> .\ni have <unk> to <unk> to the <unk> ."
     ]
    },
    {
     "name": "stderr",
     "output_type": "stream",
     "text": [
      "2015-12-07 11:14:14.053821 ... sample      833 -      896 ...\n"
     ]
    },
    {
     "name": "stderr",
     "output_type": "stream",
     "text": [
      "2015-12-07 11:14:14.081684 ... sample      897 -      960 ...\n"
     ]
    },
    {
     "name": "stdout",
     "output_type": "stream",
     "text": [
      "\ni have <unk> to <unk> to the <unk> .\nhe is <unk> to the <unk> .\nhe is <unk> to the <unk> .\ni have a <unk> <unk> to the <unk> .\nhe <unk> to <unk> to the <unk> .\ni have <unk> a <unk> <unk> the <unk> .\ni have a <unk> to <unk> to the <unk> .\nhe is <unk> to the <unk> .\ni have <unk> to <unk> to the <unk> .\nhe is <unk> to the <unk> .\nhe is <unk> to the <unk> .\ni have <unk> to <unk> to the <unk> .\nhe is <unk> to the <unk> .\ni have a <unk> to the <unk> .\ni have <unk> to <unk> to the <unk> .\ni have <unk> to <unk> to the <unk> .\n<unk> to <unk> to the <unk> .\nyou is you to <unk> to the <unk> .\ni have a <unk> <unk> to the <unk> .\ni have <unk> to <unk> to the <unk> .\ni have a <unk> <unk> to the <unk> .\ni have <unk> to <unk> to the <unk> .\ni have to <unk> to the <unk> .\ni have a <unk> to the <unk> .\ni have <unk> to <unk> to the <unk> .\ni have a <unk> <unk> to the <unk> .\ni have a <unk> to the <unk> .\ni have <unk> to <unk> to the <unk> .\ni have a <unk> to <unk> to the <unk> .\nyou is <unk> to the <unk> .\nhe is <unk> to the <unk> to the <unk> .\nhe is <unk> to the <unk> .\ni have <unk> to <unk> to the <unk> .\ni have a <unk> <unk> to the <unk> .\ni have <unk> to <unk> to the <unk> .\ni have a <unk> <unk> to the <unk> .\ni have a <unk> <unk> to the <unk> .\ni have a <unk> <unk> to the <unk> .\ni have a <unk> <unk> to the <unk> .\ni have to <unk> to the <unk> .\ni have a <unk> <unk> to the <unk> .\ni have a <unk> to the <unk> .\ni have a <unk> <unk> to the <unk> .\ni have <unk> to <unk> to the <unk> .\ni have <unk> a <unk> <unk> to the <unk> .\ni have <unk> to <unk> to the <unk> .\ni have <unk> to the <unk> to the <unk> .\ni have a <unk> <unk> to the <unk> .\ni have a <unk> <unk> to the <unk> .\nhe is <unk> to the <unk> to the <unk> .\ni have to <unk> to the <unk> .\ni have a <unk> <unk> to the <unk> .\ni have a <unk> <unk> to the <unk> .\nit is <unk> to the <unk> .\ni have <unk> to <unk> to the <unk> .\nshe <unk> <unk> to the <unk> .\nshe <unk> to <unk> to the <unk> .\ni have a <unk> to the <unk> .\ni have to been to <unk> to the <unk> .\ni have a <unk> to <unk> to the <unk> .\nhe is <unk> to the <unk> .\ni have to <unk> to the <unk> .\ni have to <unk> to the <unk> to the <unk> .\ni have a <unk> to the <unk> .\nshe <unk> <unk> to <unk> to the <unk> .\nhe is <unk> to the <unk> .\ni have a <unk> <unk> to the <unk> .\ni have a <unk> <unk> to the <unk> .\nhe is <unk> to the <unk> .\ni <unk> to <unk> to the <unk> .\ni have <unk> to <unk> to the <unk> .\ni have a <unk> <unk> to the <unk> .\nhe is <unk> to the <unk> .\nhe is <unk> to the <unk> .\ni have a <unk> to <unk> to the <unk> .\nhe is <unk> to the <unk> .\nhe is <unk> to the <unk> .\ni have a <unk> to <unk> to the <unk> .\nshe <unk> to <unk> to the <unk> .\nshe <unk> <unk> to the <unk> .\ni have <unk> to <unk> to the <unk> .\ni have <unk> to <unk> to the <unk> .\nhe is <unk> to the <unk> .\nhe is <unk> to the <unk> .\ni have a <unk> <unk> to the <unk> .\ni have <unk> to <unk> to the <unk> .\ni have a <unk> to <unk> to the <unk> .\nhe is <unk> to the <unk> .\ni have <unk> a <unk> <unk> the <unk> .\ni have a <unk> <unk> to the <unk> .\ni have <unk> to <unk> to the <unk> .\ni have <unk> to <unk> to the <unk> .\ni have a <unk> to <unk> to the <unk> .\nshe <unk> to <unk> to the <unk> .\ni have a <unk> <unk> to the <unk> .\ni have a <unk> <unk> to the <unk> .\ni have <unk> to the <unk> to the <unk> .\ni have to <unk> to the <unk> to the <unk> .\ni have <unk> a <unk> <unk> the <unk> .\ni have a <unk> to <unk> to the <unk> .\ni have a <unk> <unk> to the <unk> .\nhe is <unk> to the <unk> .\ni have <unk> to <unk> to the <unk> .\ni have a <unk> <unk> to the <unk> .\nshe <unk> <unk> to <unk> to the <unk> .\ni have a <unk> <unk> to the <unk> .\ni have a <unk> <unk> to the <unk> .\ni have a <unk> <unk> to the <unk> .\ni have <unk> a <unk> <unk> the <unk> .\n<unk> to <unk> to the <unk> .\ni have a <unk> <unk> to the <unk> .\ni have to <unk> to the <unk> .\ni have a <unk> <unk> to the <unk> .\nhe is <unk> to the <unk> .\ni have <unk> to <unk> to the <unk> .\nhe is <unk> to the <unk> .\ni have a <unk> <unk> to the <unk> .\nshe <unk> <unk> to the <unk> .\ni have <unk> to <unk> to the <unk> .\nshe <unk> <unk> to <unk> to the <unk> .\nhe is <unk> to the <unk> .\nhe is <unk> to the <unk> .\ni have <unk> to <unk> to the <unk> .\ni have <unk> a <unk> <unk> the <unk> .\ni have a <unk> <unk> to the <unk> .\ni have <unk> to <unk> to the <unk> .\ni have a <unk> <unk> to the <unk> .\ni have a <unk> <unk> to the <unk> ."
     ]
    },
    {
     "name": "stderr",
     "output_type": "stream",
     "text": [
      "2015-12-07 11:14:14.111558 ... sample      961 -     1000 ...\n"
     ]
    },
    {
     "name": "stderr",
     "output_type": "stream",
     "text": [
      "2015-12-07 11:14:14.135090 ... finished.\n"
     ]
    },
    {
     "name": "stdout",
     "output_type": "stream",
     "text": [
      "\ni have a <unk> <unk> to the <unk> .\ni have a <unk> to the <unk> .\ni have a <unk> <unk> to the <unk> .\ni have <unk> to <unk> to the <unk> .\ni have <unk> to <unk> to the <unk> .\nhe is <unk> to the <unk> .\ni have a <unk> to <unk> to the <unk> .\ni have <unk> to <unk> to the <unk> .\nhe is <unk> to the <unk> .\ni have a <unk> <unk> to the <unk> .\n<unk> to <unk> to the <unk> .\ni have a <unk> to the <unk> .\ni have a <unk> <unk> to the <unk> .\ni have a <unk> to the <unk> .\ni have <unk> to <unk> to the <unk> .\ni have to <unk> to the <unk> .\nhe is <unk> to the <unk> .\ni have to <unk> to the <unk> .\ni have to <unk> to the <unk> to the <unk> .\ni have a <unk> <unk> to the <unk> .\nhe is <unk> to the <unk> .\nhe is <unk> to the <unk> .\ni have a <unk> to the <unk> .\ni have <unk> to <unk> to the <unk> .\nshe <unk> to <unk> to the <unk> .\ni have <unk> to <unk> to the <unk> .\ni have <unk> a <unk> <unk> the <unk> .\ni have a <unk> <unk> to the <unk> .\nhe is <unk> to the <unk> .\ni have a <unk> <unk> to the <unk> .\nshe <unk> <unk> <unk> <unk> the <unk> .\ni have <unk> to <unk> to the <unk> .\ni have <unk> a <unk> <unk> to the <unk> .\ni have a <unk> <unk> to the <unk> .\ni have a <unk> to the <unk> .\ni have <unk> a <unk> <unk> to the <unk> .\ni have a <unk> <unk> to the <unk> .\ni have a <unk> <unk> to the <unk> .\ni have <unk> a <unk> <unk> to the <unk> .\ni have a <unk> to the <unk> .\ni have a <unk> <unk> to the <unk> .\ni have to <unk> to the <unk> .\ni have <unk> to <unk> to the <unk> .\nshe <unk> to <unk> to the <unk> .\nhe is <unk> to the <unk> to the <unk> .\ni have <unk> to <unk> to the <unk> .\ni <unk> a <unk> <unk> to the <unk> .\ni have a <unk> to <unk> to the <unk> .\ni have a <unk> <unk> to the <unk> .\nhe is <unk> to the <unk> .\ni have a <unk> <unk> to the <unk> .\ni have a <unk> <unk> to the <unk> .\ni have <unk> a <unk> <unk> the <unk> .\ni have <unk> to <unk> to the <unk> .\ni have <unk> a <unk> <unk> to the <unk> .\nhe is <unk> to the <unk> .\ni have a <unk> <unk> to the <unk> .\ni have <unk> to the <unk> to the <unk> .\ni have a <unk> to the <unk> .\ni have to <unk> to the <unk> to the <unk> .\nhe is <unk> to the <unk> .\ni have <unk> a <unk> <unk> to the <unk> .\ni have a <unk> to the <unk> .\ni have a <unk> to <unk> .\ni have <unk> a <unk> <unk> the <unk> .\nhe is <unk> to the <unk> .\ni have a <unk> to the <unk> .\nhe is <unk> to the <unk> .\ni have a <unk> <unk> to the <unk> .\ni have a <unk> <unk> to the <unk> .\ni have <unk> to <unk> to the <unk> .\ni have a <unk> <unk> to the <unk> .\ni have a <unk> to <unk> to the <unk> .\ni have a <unk> <unk> to the <unk> .\ni have to <unk> to the <unk> .\ni have to <unk> to the <unk> .\ni have a <unk> to <unk> to the <unk> .\nshe <unk> <unk> to the <unk> .\ni have <unk> to <unk> to the <unk> .\nhe is <unk> to the <unk> .\ni have a <unk> <unk> to the <unk> .\ni have <unk> a <unk> <unk> the <unk> .\ni have <unk> to <unk> to the <unk> .\ni have <unk> to <unk> to the <unk> .\ni have <unk> to <unk> to the <unk> .\ni have a <unk> to <unk> .\nhe is <unk> to the <unk> .\ni have a <unk> <unk> to the <unk> .\nhe is <unk> to the <unk> .\ni have <unk> a <unk> <unk> the <unk> .\ni have <unk> to <unk> to the <unk> .\ni have <unk> to <unk> to the <unk> .\ni have <unk> to <unk> to the <unk> .\ni have <unk> to <unk> to the <unk> .\nhe is <unk> to the <unk> .\nhe is <unk> to the <unk> .\ni have a <unk> <unk> to the <unk> .\nhe is <unk> to the <unk> .\ni have <unk> to <unk> to the <unk> .\ni have a <unk> <unk> to the <unk> .\ni have <unk> to <unk> to the <unk> .\nhe is <unk> to the <unk> .\nplease is <unk> to the <unk> .\n"
     ]
    }
   ],
   "source": [
    "mode = \"test\"\n",
    "model_name = \"ChainerMachineTranslation.021\"\n",
    "trace('initializing ...')\n",
    "wrapper.init()\n",
    "\n",
    "encoderDecoderModel = EncoderDecoderModelForward(parameter_dict)\n",
    "encoderDecoderModel.test_model(model_name)"
   ]
  },
  {
   "cell_type": "markdown",
   "metadata": {},
   "source": [
    "## 7.学習したモデルを評価 (Advanced)"
   ]
  },
  {
   "cell_type": "markdown",
   "metadata": {},
   "source": [
    "学習したモデルの評価するため、BLEUを算出\n",
    "\n",
    "* BlEUとは翻訳の客観的評価に使用される指標で、答えとなる文章との一致率を評価する方法を用いています。\n",
    "詳しく知りたい方は下記をご覧ください。\n",
    "http://www2.nict.go.jp/univ-com/multi_trans/member/mutiyama/corpmt/4.pdf"
   ]
  },
  {
   "cell_type": "code",
   "execution_count": 6,
   "metadata": {},
   "outputs": [
    {
     "name": "stdout",
     "output_type": "stream",
     "text": [
      "BLEU=0.000000\tRIBES=0.447110\n\n"
     ]
    }
   ],
   "source": [
    "cmd = \"mteval-corpus  -e BLEU RIBES -r \" +parameter_dict[\"reference_target\"] + \" -h \" + parameter_dict[\"test_target\"]\n",
    "mteval = subprocess.Popen(cmd, shell=True, stdout=subprocess.PIPE, stderr=subprocess.PIPE)\n",
    "stdout_data = mteval.stdout.read()\n",
    "print(stdout_data.decode('utf-8'))"
   ]
  },
  {
   "cell_type": "markdown",
   "metadata": {},
   "source": [
    ""
   ]
  }
 ],
 "metadata": {
  "kernelspec": {
   "display_name": "Python 3",
   "language": "python",
   "name": "python3"
  },
  "language_info": {
   "codemirror_mode": {
    "name": "ipython",
    "version": 3.0
   },
   "file_extension": ".py",
   "mimetype": "text/x-python",
   "name": "python",
   "nbconvert_exporter": "python",
   "pygments_lexer": "ipython3",
   "version": "3.4.1"
  }
 },
 "nbformat": 4,
 "nbformat_minor": 0
}